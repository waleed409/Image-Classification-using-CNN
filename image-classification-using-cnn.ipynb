{
 "cells": [
  {
   "cell_type": "code",
   "execution_count": 1,
   "id": "7f9ad856",
   "metadata": {
    "execution": {
     "iopub.execute_input": "2022-07-26T07:34:19.773704Z",
     "iopub.status.busy": "2022-07-26T07:34:19.773239Z",
     "iopub.status.idle": "2022-07-26T07:34:25.757187Z",
     "shell.execute_reply": "2022-07-26T07:34:25.755679Z"
    },
    "papermill": {
     "duration": 5.993141,
     "end_time": "2022-07-26T07:34:25.760584",
     "exception": false,
     "start_time": "2022-07-26T07:34:19.767443",
     "status": "completed"
    },
    "tags": []
   },
   "outputs": [],
   "source": [
    "import numpy as np\n",
    "%matplotlib inline\n",
    "import matplotlib.image as mpimg\n",
    "import matplotlib.pyplot as plt\n",
    "import tensorflow as tf\n",
    "tf.compat.v1.set_random_seed(2019)"
   ]
  },
  {
   "cell_type": "code",
   "execution_count": 2,
   "id": "98c49ac8",
   "metadata": {
    "execution": {
     "iopub.execute_input": "2022-07-26T07:34:25.769220Z",
     "iopub.status.busy": "2022-07-26T07:34:25.768546Z",
     "iopub.status.idle": "2022-07-26T07:34:27.454800Z",
     "shell.execute_reply": "2022-07-26T07:34:27.453260Z"
    },
    "papermill": {
     "duration": 1.693637,
     "end_time": "2022-07-26T07:34:27.457655",
     "exception": false,
     "start_time": "2022-07-26T07:34:25.764018",
     "status": "completed"
    },
    "tags": []
   },
   "outputs": [
    {
     "name": "stderr",
     "output_type": "stream",
     "text": [
      "2022-07-26 07:34:27.077214: I tensorflow/core/common_runtime/process_util.cc:146] Creating new thread pool with default inter op setting: 2. Tune using inter_op_parallelism_threads for best performance.\n"
     ]
    }
   ],
   "source": [
    "model = tf.keras.models.Sequential([\n",
    "    tf.keras.layers.Conv2D(16,(3,3),activation = \"relu\" , input_shape = (180,180,3)) ,\n",
    "    tf.keras.layers.MaxPooling2D(2,2),\n",
    "    tf.keras.layers.Conv2D(32,(3,3),activation = \"relu\") ,  \n",
    "    tf.keras.layers.MaxPooling2D(2,2),\n",
    "    tf.keras.layers.Conv2D(64,(3,3),activation = \"relu\") ,  \n",
    "    tf.keras.layers.MaxPooling2D(2,2),\n",
    "    tf.keras.layers.Conv2D(128,(3,3),activation = \"relu\"),  \n",
    "    tf.keras.layers.MaxPooling2D(2,2),\n",
    "    tf.keras.layers.Flatten(), \n",
    "    tf.keras.layers.Dense(550,activation=\"relu\"),      #Adding the Hidden layer\n",
    "    tf.keras.layers.Dropout(0.1,seed = 2019),\n",
    "    tf.keras.layers.Dense(400,activation =\"relu\"),\n",
    "    tf.keras.layers.Dropout(0.3,seed = 2019),\n",
    "    tf.keras.layers.Dense(300,activation=\"relu\"),\n",
    "    tf.keras.layers.Dropout(0.4,seed = 2019),\n",
    "    tf.keras.layers.Dense(200,activation =\"relu\"),\n",
    "    tf.keras.layers.Dropout(0.2,seed = 2019),\n",
    "    tf.keras.layers.Dense(2,activation = \"softmax\")   #Adding the Output Layer\n",
    "])"
   ]
  },
  {
   "cell_type": "code",
   "execution_count": 3,
   "id": "c1e6d536",
   "metadata": {
    "execution": {
     "iopub.execute_input": "2022-07-26T07:34:27.465793Z",
     "iopub.status.busy": "2022-07-26T07:34:27.465389Z",
     "iopub.status.idle": "2022-07-26T07:34:27.472808Z",
     "shell.execute_reply": "2022-07-26T07:34:27.471683Z"
    },
    "papermill": {
     "duration": 0.014804,
     "end_time": "2022-07-26T07:34:27.475885",
     "exception": false,
     "start_time": "2022-07-26T07:34:27.461081",
     "status": "completed"
    },
    "tags": []
   },
   "outputs": [
    {
     "name": "stdout",
     "output_type": "stream",
     "text": [
      "Model: \"sequential\"\n",
      "_________________________________________________________________\n",
      "Layer (type)                 Output Shape              Param #   \n",
      "=================================================================\n",
      "conv2d (Conv2D)              (None, 178, 178, 16)      448       \n",
      "_________________________________________________________________\n",
      "max_pooling2d (MaxPooling2D) (None, 89, 89, 16)        0         \n",
      "_________________________________________________________________\n",
      "conv2d_1 (Conv2D)            (None, 87, 87, 32)        4640      \n",
      "_________________________________________________________________\n",
      "max_pooling2d_1 (MaxPooling2 (None, 43, 43, 32)        0         \n",
      "_________________________________________________________________\n",
      "conv2d_2 (Conv2D)            (None, 41, 41, 64)        18496     \n",
      "_________________________________________________________________\n",
      "max_pooling2d_2 (MaxPooling2 (None, 20, 20, 64)        0         \n",
      "_________________________________________________________________\n",
      "conv2d_3 (Conv2D)            (None, 18, 18, 128)       73856     \n",
      "_________________________________________________________________\n",
      "max_pooling2d_3 (MaxPooling2 (None, 9, 9, 128)         0         \n",
      "_________________________________________________________________\n",
      "flatten (Flatten)            (None, 10368)             0         \n",
      "_________________________________________________________________\n",
      "dense (Dense)                (None, 550)               5702950   \n",
      "_________________________________________________________________\n",
      "dropout (Dropout)            (None, 550)               0         \n",
      "_________________________________________________________________\n",
      "dense_1 (Dense)              (None, 400)               220400    \n",
      "_________________________________________________________________\n",
      "dropout_1 (Dropout)          (None, 400)               0         \n",
      "_________________________________________________________________\n",
      "dense_2 (Dense)              (None, 300)               120300    \n",
      "_________________________________________________________________\n",
      "dropout_2 (Dropout)          (None, 300)               0         \n",
      "_________________________________________________________________\n",
      "dense_3 (Dense)              (None, 200)               60200     \n",
      "_________________________________________________________________\n",
      "dropout_3 (Dropout)          (None, 200)               0         \n",
      "_________________________________________________________________\n",
      "dense_4 (Dense)              (None, 2)                 402       \n",
      "=================================================================\n",
      "Total params: 6,201,692\n",
      "Trainable params: 6,201,692\n",
      "Non-trainable params: 0\n",
      "_________________________________________________________________\n"
     ]
    }
   ],
   "source": [
    "model.summary()"
   ]
  },
  {
   "cell_type": "code",
   "execution_count": 4,
   "id": "b2908e96",
   "metadata": {
    "execution": {
     "iopub.execute_input": "2022-07-26T07:34:27.483970Z",
     "iopub.status.busy": "2022-07-26T07:34:27.483583Z",
     "iopub.status.idle": "2022-07-26T07:34:27.501237Z",
     "shell.execute_reply": "2022-07-26T07:34:27.500408Z"
    },
    "papermill": {
     "duration": 0.024663,
     "end_time": "2022-07-26T07:34:27.503822",
     "exception": false,
     "start_time": "2022-07-26T07:34:27.479159",
     "status": "completed"
    },
    "tags": []
   },
   "outputs": [
    {
     "name": "stderr",
     "output_type": "stream",
     "text": [
      "/opt/conda/lib/python3.7/site-packages/keras/optimizer_v2/optimizer_v2.py:356: UserWarning: The `lr` argument is deprecated, use `learning_rate` instead.\n",
      "  \"The `lr` argument is deprecated, use `learning_rate` instead.\")\n"
     ]
    }
   ],
   "source": [
    "from tensorflow.keras.optimizers import RMSprop,SGD,Adam\n",
    "adam=Adam(lr=0.001)\n",
    "model.compile(optimizer='adam', loss='categorical_crossentropy', metrics = ['acc'])"
   ]
  },
  {
   "cell_type": "code",
   "execution_count": 5,
   "id": "fbfa2697",
   "metadata": {
    "execution": {
     "iopub.execute_input": "2022-07-26T07:34:27.512834Z",
     "iopub.status.busy": "2022-07-26T07:34:27.511789Z",
     "iopub.status.idle": "2022-07-26T07:34:35.840507Z",
     "shell.execute_reply": "2022-07-26T07:34:35.838907Z"
    },
    "papermill": {
     "duration": 8.336032,
     "end_time": "2022-07-26T07:34:35.843240",
     "exception": false,
     "start_time": "2022-07-26T07:34:27.507208",
     "status": "completed"
    },
    "tags": []
   },
   "outputs": [
    {
     "name": "stdout",
     "output_type": "stream",
     "text": [
      "Found 10028 images belonging to 2 classes.\n",
      "Found 10028 images belonging to 2 classes.\n"
     ]
    }
   ],
   "source": [
    "bs=30         #Setting batch size\n",
    "train_dir = \"../input/cat-and-dog/\"   #Setting training directory\n",
    "validation_dir = \"../input/cat-and-dog/\"   #Setting testing directory\n",
    "from tensorflow.keras.preprocessing.image import ImageDataGenerator \n",
    "# All images will be rescaled by 1./255.\n",
    "train_datagen = ImageDataGenerator( rescale = 1.0/255. )\n",
    "test_datagen  = ImageDataGenerator( rescale = 1.0/255. )\n",
    "# Flow training images in batches of 20 using train_datagen generator\n",
    "#Flow_from_directory function lets the classifier directly identify the labels from the name of the directories the image lies in\n",
    "train_generator=train_datagen.flow_from_directory(train_dir,batch_size=bs,class_mode='categorical',target_size=(180,180))\n",
    "# Flow validation images in batches of 20 using test_datagen generator\n",
    "validation_generator =  test_datagen.flow_from_directory(validation_dir,\n",
    "                                                         batch_size=bs,\n",
    "                                                         class_mode  = 'categorical',\n",
    "                                                         target_size=(180,180))"
   ]
  },
  {
   "cell_type": "code",
   "execution_count": 6,
   "id": "6d5d2a79",
   "metadata": {
    "execution": {
     "iopub.execute_input": "2022-07-26T07:34:35.852332Z",
     "iopub.status.busy": "2022-07-26T07:34:35.851913Z",
     "iopub.status.idle": "2022-07-26T07:35:23.686235Z",
     "shell.execute_reply": "2022-07-26T07:35:23.685058Z"
    },
    "papermill": {
     "duration": 47.842462,
     "end_time": "2022-07-26T07:35:23.689249",
     "exception": false,
     "start_time": "2022-07-26T07:34:35.846787",
     "status": "completed"
    },
    "tags": []
   },
   "outputs": [
    {
     "name": "stderr",
     "output_type": "stream",
     "text": [
      "2022-07-26 07:34:36.232057: I tensorflow/compiler/mlir/mlir_graph_optimization_pass.cc:185] None of the MLIR Optimization Passes are enabled (registered 2)\n"
     ]
    },
    {
     "name": "stdout",
     "output_type": "stream",
     "text": [
      "Epoch 1/10\n",
      "5/5 [==============================] - 4s 646ms/step - loss: 0.6307 - acc: 0.6467 - val_loss: 0.5996 - val_acc: 0.7333\n",
      "Epoch 2/10\n",
      "5/5 [==============================] - 3s 559ms/step - loss: 0.5974 - acc: 0.7600 - val_loss: 0.5378 - val_acc: 0.7667\n",
      "Epoch 3/10\n",
      "5/5 [==============================] - 3s 547ms/step - loss: 0.5355 - acc: 0.7867 - val_loss: 0.4170 - val_acc: 0.8667\n",
      "Epoch 4/10\n",
      "5/5 [==============================] - 3s 558ms/step - loss: 0.5941 - acc: 0.7600 - val_loss: 0.5542 - val_acc: 0.7667\n",
      "Epoch 5/10\n",
      "5/5 [==============================] - 3s 546ms/step - loss: 0.6018 - acc: 0.7200 - val_loss: 0.5974 - val_acc: 0.7667\n",
      "Epoch 6/10\n",
      "5/5 [==============================] - 3s 587ms/step - loss: 0.5111 - acc: 0.8133 - val_loss: 0.5193 - val_acc: 0.8333\n",
      "Epoch 7/10\n",
      "5/5 [==============================] - 3s 531ms/step - loss: 0.5645 - acc: 0.8000 - val_loss: 0.5731 - val_acc: 0.7667\n",
      "Epoch 8/10\n",
      "5/5 [==============================] - 3s 548ms/step - loss: 0.5695 - acc: 0.7867 - val_loss: 0.5543 - val_acc: 0.8000\n",
      "Epoch 9/10\n",
      "5/5 [==============================] - 3s 550ms/step - loss: 0.5311 - acc: 0.8067 - val_loss: 0.5519 - val_acc: 0.7667\n",
      "Epoch 10/10\n",
      "5/5 [==============================] - 3s 566ms/step - loss: 0.5478 - acc: 0.7867 - val_loss: 0.4443 - val_acc: 0.8333\n"
     ]
    }
   ],
   "source": [
    "history = model.fit(train_generator,\n",
    "                    validation_data=validation_generator,\n",
    "                    steps_per_epoch=150 // bs,\n",
    "                    epochs=10,\n",
    "                    validation_steps=50 // bs,\n",
    "                    )"
   ]
  },
  {
   "cell_type": "code",
   "execution_count": 7,
   "id": "d22b7069",
   "metadata": {
    "execution": {
     "iopub.execute_input": "2022-07-26T07:35:23.708397Z",
     "iopub.status.busy": "2022-07-26T07:35:23.707447Z",
     "iopub.status.idle": "2022-07-26T07:35:23.923515Z",
     "shell.execute_reply": "2022-07-26T07:35:23.922273Z"
    },
    "papermill": {
     "duration": 0.228542,
     "end_time": "2022-07-26T07:35:23.926361",
     "exception": false,
     "start_time": "2022-07-26T07:35:23.697819",
     "status": "completed"
    },
    "tags": []
   },
   "outputs": [
    {
     "data": {
      "text/plain": [
       "<matplotlib.legend.Legend at 0x7f6651269210>"
      ]
     },
     "execution_count": 7,
     "metadata": {},
     "output_type": "execute_result"
    },
    {
     "data": {
      "image/png": "[encoded data removed]",
      "text/plain": [
       "<Figure size 432x288 with 1 Axes>"
      ]
     },
     "metadata": {
      "needs_background": "light"
     },
     "output_type": "display_data"
    }
   ],
   "source": [
    "plt.plot(history.history['acc'], label='accuracy')\n",
    "plt.plot(history.history['val_acc'], label = 'val_accuracy')\n",
    "plt.xlabel('Epoch')\n",
    "plt.ylabel('Accuracy')\n",
    "plt.ylim([0.5, 1])\n",
    "plt.legend(loc='lower right')\n",
    "\n"
   ]
  }
 ],
 "metadata": {
  "kernelspec": {
   "display_name": "Python 3",
   "language": "python",
   "name": "python3"
  },
  "language_info": {
   "codemirror_mode": {
    "name": "ipython",
    "version": 3
   },
   "file_extension": ".py",
   "mimetype": "text/x-python",
   "name": "python",
   "nbconvert_exporter": "python",
   "pygments_lexer": "ipython3",
   "version": "3.7.12"
  },
  "papermill": {
   "default_parameters": {},
   "duration": 77.780874,
   "end_time": "2022-07-26T07:35:27.141832",
   "environment_variables": {},
   "exception": null,
   "input_path": "__notebook__.ipynb",
   "output_path": "__notebook__.ipynb",
   "parameters": {},
   "start_time": "2022-07-26T07:34:09.360958",
   "version": "2.3.4"
  }
 },
 "nbformat": 4,
 "nbformat_minor": 5
}
